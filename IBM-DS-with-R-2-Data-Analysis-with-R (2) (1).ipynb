{
  "metadata": {
    "kernelspec": {
      "display_name": "R",
      "language": "R",
      "name": "ir"
    },
    "language_info": {
      "codemirror_mode": "r",
      "file_extension": ".r",
      "mimetype": "text/x-r-source",
      "name": "R",
      "pygments_lexer": "r",
      "version": "3.6.1"
    },
    "widgets": {
      "state": {},
      "version": "1.1.2"
    }
  },
  "nbformat_minor": 4,
  "nbformat": 4,
  "cells": [
    {
      "cell_type": "markdown",
      "source": "<center>\n    <img src=\"https://s3-api.us-geo.objectstorage.softlayer.net/cf-courses-data/CognitiveClass/Logos/organization_logo/organization_logo.png\" width=\"300\" alt=\"cognitiveclass.ai logo\"  />\n</center>\n\n# Assignment: Notebook for Peer Assignment\n\nEstimated time needed: 60 minutes\n",
      "metadata": {}
    },
    {
      "cell_type": "markdown",
      "source": "# Assignment Scenario\n\nCongratulations! You have just been hired by a US Weather forecast firm as a data scientist.\n\nThe company is considering the weather condition to help predict the possibility of precipitations, which involves using various local climatological variables, including temperature, wind speed, humidity, dew point, and pressure. The data you will be handling was collected by a NOAA weather station located at the John F. Kennedy International Airport in Queens, New York.\n\nYour task is to provide a high level analysis of weather data in JFK Airport. Your stakeholders want to understand the current and historical record of precipitations based on different variables. For now they are mainly interested in a macro-view of JFK Airport Weather, and how it relates to the possibility to rain because it will affect flight delays and etc.\n",
      "metadata": {}
    },
    {
      "cell_type": "markdown",
      "source": "# Introduction\n\nThis project relates to the NOAA Weather Dataset - JFK Airport (New York). The original dataset contains 114,546 hourly observations of 12 local climatological variables (such as temperature and wind speed) collected at JFK airport. This dataset can be obtained for free from the IBM Developer [Data Asset Exchange](https://developer.ibm.com/exchanges/data/all/jfk-weather-data/?utm_medium=Exinfluencer&utm_source=Exinfluencer&utm_content=000026UJ&utm_term=10006555&utm_id=NA-SkillsNetwork-Channel-SkillsNetworkCoursesIBMDA0151ENSkillsNetwork21582452-2022-01-01).\n\nFor this project, you will be using a subset dataset, which contains 5727 rows (about 5% or original rows) and 9 columns. The end goal will be to predict the precipitation using some of the available features. In this project, you will practice reading data files, preprocessing data, creating models, improving models and evaluating them to ultimately choose the best model.\n",
      "metadata": {}
    },
    {
      "cell_type": "markdown",
      "source": "## Table of Contents:\n\nUsing this R notebook you will complete **10 tasks**:\n\n*   [0. Prerequisites](#cell0)\n*   [1. Download and Unzip NOAA Weather Dataset](#cell1)\n*   [2. Read Dataset into Project](#cell2)\n*   [3. Select Subset of Columns](#cell3)\n*   [4. Clean Up Columns](#cell4)\n*   [5. Convert Columns to Numerical Types](#cell5)\n*   [6. Rename Columns](#cell6)\n*   [7. Exploratory Data Analysis](#cell7)\n*   [8. Linear Regression](#cell8)\n*   [9. Improve the Model](#cell9)\n*   [10. Find Best Model](#cell10)\n\n<a id=\"cell0\"></a>\n\n## 0. Prerequisites\n\n**When creating this notebook in Watson Studio, remember to chose R under \"Select runtime\" to make sure the kernel is using R.**\n\nBefore you run this notebook complete the following steps:\n\n*   Insert a project token\n*   Import required modules\n\n#### Insert a project token\n\nWhen you import this project from the Watson Studio Gallery, a token should be automatically generated and inserted at the top of this notebook as a code cell such as the one below:\n\n```python\n# @hidden_cell\n# The project token is an authorization token that is used to access project resources like data sources, connections, and used by platform APIs.\nfrom project_lib import Project\nproject = Project(project_id='YOUR_PROJECT_ID', project_access_token='YOUR_PROJECT_TOKEN')\npc = project.project_context\n```\n\nIf you do not see the cell above, follow these steps to enable the notebook to access the dataset from the project's resources:\n\n*   Click on `More -> Insert project token` in the top-right menu section\n\n![ws-project.mov](https://media.giphy.com/media/jSVxX2spqwWF9unYrs/giphy.gif)\n\n*   This should insert a cell at the top of this notebook similar to the example given above.\n\n    > If an error is displayed indicating that no project token is defined, follow [these instructions](https://dataplatform.cloud.ibm.com/docs/content/wsj/analyze-data/token.html?utm_medium=Exinfluencer&utm_source=Exinfluencer&utm_content=000026UJ&utm_term=10006555&utm_id=NA-SkillsNetwork-Channel-SkillsNetworkCoursesIBMDA0151ENSkillsNetwork21582452-2022-01-01&audience=wdp&context=data).\n\n*   Run the newly inserted cell before proceeding with the notebook execution below\n\n### Import required modules\n\nBelow, install \"tidymodels\", additionally \"rlang\" should be updated in order to properly run \"tidymodels\".\n",
      "metadata": {}
    },
    {
      "cell_type": "code",
      "source": "# Install tidymodels if you haven't done so\ninstall.packages(\"rlang\")\ninstall.packages(\"tidymodels\")",
      "metadata": {},
      "execution_count": null,
      "outputs": []
    },
    {
      "cell_type": "markdown",
      "source": "After installing the packages, load them. Tidyverse and Tidymodels will be the two main packages you will use.\n",
      "metadata": {}
    },
    {
      "cell_type": "code",
      "source": "# Library for modeling\nlibrary(tidymodels)\n\n# Load tidyverse\nlibrary(tidyverse)",
      "metadata": {},
      "execution_count": null,
      "outputs": []
    },
    {
      "cell_type": "markdown",
      "source": "### Understand the Dataset\n\nThe original NOAA JFK dataset contains 114,546 hourly observations of various local climatological variables (including temperature, wind speed, humidity, dew point, and pressure).\n\nIn this project you will use a sample dataset, which is around 293 KB. [Link to the sample dataset](https://dax-cdn.cdn.appdomain.cloud/dax-noaa-weather-data-jfk-airport/1.1.4/noaa-weather-sample-data.tar.gz).\n\nThe sample contains 5727 rows (about 5% or original rows) and 9 columns, which are:\n\n*   DATE\n*   HOURLYDewPointTempF\n*   HOURLYRelativeHumidity\n*   HOURLYDRYBULBTEMPF\n*   HOURLYWETBULBTEMPF\n*   HOURLYPrecip\n*   HOURLYWindSpeed\n*   HOURLYSeaLevelPressure\n*   HOURLYStationPressure\n\nThe original dataset is much bigger. Feel free to explore the original dataset. [Link to the original dataset.](https://dax-cdn.cdn.appdomain.cloud/dax-noaa-weather-data-jfk-airport/1.1.4/noaa_weather.html)\n\nFor more information about the dataset, checkout the [preview](https://dax-cdn.cdn.appdomain.cloud/dax-noaa-weather-data-jfk-airport/1.1.4/data-preview/index.html?\\_ga=2.176781478.281508226.1616293518-1509963377.1616117067&cm_mc_uid=90945889198916153255549&cm_mc_sid\\_50200000=64650651616293516933) of NOAA Weather - JFK Airport.\n",
      "metadata": {}
    },
    {
      "cell_type": "markdown",
      "source": "<a id=\"cell1\"></a>\n\n## 1. Download NOAA Weather Dataset\n\nUse the `download.file()` function to download the sample dataset from the URL below.\n\nURL = '<https://dax-cdn.cdn.appdomain.cloud/dax-noaa-weather-data-jfk-airport/1.1.4/noaa-weather-sample-data.tar.gz>'\n",
      "metadata": {}
    },
    {
      "cell_type": "code",
      "source": "download.file (URL, destfile = 'noaa-weather-sample-data.tar.gz')",
      "metadata": {},
      "execution_count": null,
      "outputs": []
    },
    {
      "cell_type": "markdown",
      "source": "Untar the zipped file.\n",
      "metadata": {}
    },
    {
      "cell_type": "code",
      "source": "untar('noaa-weather-sample-data.tar.gz')",
      "metadata": {},
      "execution_count": null,
      "outputs": []
    },
    {
      "cell_type": "markdown",
      "source": "<a id=\"cell2\"></a>\n\n## 2. Extract and Read into Project\n\nWe start by reading in the raw dataset. You should specify the file name as \"noaa-weather-sample-data/jfk_weather_sample.csv\".\n",
      "metadata": {}
    },
    {
      "cell_type": "code",
      "source": "datac- read.csv (\"noaa-wather-sample-data/jfk_weather_sample.csv\") ",
      "metadata": {},
      "execution_count": null,
      "outputs": []
    },
    {
      "cell_type": "markdown",
      "source": "Next, display the first few rows of the dataframe.\n",
      "metadata": {}
    },
    {
      "cell_type": "code",
      "source": "dataset<- dataset[c(C\"HOURLYRelativeHumidity\", \"HOURLYDRYBULBTEMPE\", \"HOURLYPrecip\", \"HOURLYWindSpeed\", HOURLYStation Pressure\")] dataset$HOURLYPrecip <- as.character(dataset$HOURLYPrecip) - dataset$HOURLYPrecip <- replace(dataset$HOURLYPrecip, dataset$HOURLYPrecip == \"1\", \"0.00\") - dataset$HOURLYPrecip <= str_remove(dataset$HOURLYPrecip, pattern = \"$$\") dataset$HOURLYPrecip <- as.numeric(dataset$HOURLYPrecip)",
      "metadata": {},
      "execution_count": null,
      "outputs": []
    },
    {
      "cell_type": "markdown",
      "source": "Also, take a `glimpse` of the dataset to see the different column data types and make sure it is the correct subset dataset with about 5700 rows and 9 columns.\n",
      "metadata": {}
    },
    {
      "cell_type": "code",
      "source": "glimpse (NOAA_weather) - glimpse (NOAA_weather_cleaned) ",
      "metadata": {},
      "execution_count": null,
      "outputs": []
    },
    {
      "cell_type": "markdown",
      "source": "<a id=\"cell3\"></a>\n\n## 3. Select Subset of Columns\n\nThe end goal of this project will be to predict `HOURLYprecip` (precipitation) using a few other variables. Before you can do this, you first need to preprocess the dataset. Section 3 to section 6 focuses on preprocessing.\n\nThe first step in preprocessing is to select a subset of data columns and inspect the column types.\n\nThe key columns that we will explore in this project are:\n\n*   HOURLYRelativeHumidity\n*   HOURLYDRYBULBTEMPF\n*   HOURLYPrecip\n*   HOURLYWindSpeed\n*   HOURLYStationPressure\n\nData Glossary:\n\n*   'HOURLYRelativeHumidity' is the relative humidity given to the nearest whole percentage.\n*   'HOURLYDRYBULBTEMPF' is the dry-bulb temperature and is commonly used as the standard air temperature reported. It is given here in whole degrees Fahrenheit.\n*   'HOURLYPrecip' is the amount of precipitation in inches to hundredths over the past hour. For certain automated stations, precipitation will be reported at sub-hourly intervals (e.g. every 15 or 20 minutes) as an accumulated amount of all precipitation within the preceding hour. A “T” indicates a trace amount of precipitation.\n*   'HOURLYWindSpeed' is the speed of the wind at the time of observation given in miles per hour (mph).\n*   'HOURLYStationPressure' is the atmospheric pressure observed at the station during the time of observation. Given in inches of Mercury (in Hg).\n\n`Select` those five columns and store the modified dataframe as a new variable.\n",
      "metadata": {}
    },
    {
      "cell_type": "code",
      "source": "NOAA_weather renamed <- NOAA_weather_cleaned %>% rename (relative_humidity = HOURLYRelativeHumidity,dry_bulb_temp_f = HOURLYDRYBULBTEMPF, precip = HOURLYPrecip, wind_speed = HOURLYWindSpeed, station_pressure = HOURLYStationPressure)",
      "metadata": {},
      "execution_count": null,
      "outputs": []
    },
    {
      "cell_type": "markdown",
      "source": "Show the first 10 rows of this new dataframe.\n",
      "metadata": {}
    },
    {
      "cell_type": "code",
      "source": "",
      "metadata": {},
      "execution_count": null,
      "outputs": []
    },
    {
      "cell_type": "markdown",
      "source": "<a id=\"cell4\"></a>\n\n## 4. Clean Up Columns\n\nFrom the dataframe preview above, we can see that the column `HOURLYPrecip` - which is the hourly measure of precipitation levels - contains both `NA` and `T` values. `T` specifies *trace amounts of precipitation* (meaning essentially no precipitation), while `NA` means *not available*, and is used to denote missing values. Additionally, some values also have \"s\" at the end of them, indicating that the precipitation was snow.\n\nInspect the unique values present in the column `HOURLYPrecip` (with `unique(dataframe$column)`) to see these values.\n",
      "metadata": {}
    },
    {
      "cell_type": "code",
      "source": "dataset$HOURLYPrecip <- as.character(dataset$HOURLYPrecip) - dataset$HOURLYPrecip <- replace(dataset$HOURLYPrecip, dataset$HOURLYPrecip == \"1\", \"0.00\") - dataset$HOURLYPrecip <= str_remove(dataset$HOURLYPrecip, pattern = \"$$\") ",
      "metadata": {},
      "execution_count": null,
      "outputs": []
    },
    {
      "cell_type": "markdown",
      "source": "Having characters in values (like the \"T\" and \"s\" that you see in the unique values) will cause problems when you create a model because values for precipitation should be numerical. So you need to fix these values that have characters.\n\nNow, for the column `HOURLYPrecip`:\n\n1.  Replace all the `T` values with \"0.0\" and\n2.  Remove \"s\" from values like \"0.02s\". In R, you can use the method `str_remove(column, pattern = \"s$\")` to remove the character \"s\" from the end of values. The \"$\" tells R to match to the end of values. The `pattern` is a regex pattern. Look at [here](https://www.rdocumentation.org/packages/stringi/versions/1.5.3/topics/about_search_regex?utm_medium=Exinfluencer&utm_source=Exinfluencer&utm_content=000026UJ&utm_term=10006555&utm_id=NA-SkillsNetwork-Channel-SkillsNetworkCoursesIBMDA0151ENSkillsNetwork21582452-2022-01-01) for more information about regex and matching to strings in R.\n\nRemember that you can use `tidyverse`'s  `mutate()` to update columns.\n\nYou can check your work by checking if unique values of `HOURLYPrecip` still contain any `T` or `s`. Store the modified dataframe as a new variable.\n",
      "metadata": {}
    },
    {
      "cell_type": "code",
      "source": "",
      "metadata": {},
      "execution_count": null,
      "outputs": []
    },
    {
      "cell_type": "markdown",
      "source": "<a id=\"cell5\"></a>\n\n## 5. Convert Columns to Numerical Types\n\nNow that you have removed the characters in the `HOURLYPrecip` column, you can safely covert the column to a numeric type.\n\nFirst, check the types of the columns. You will notice that all are `dbl` (double or numeric) except for `HOURLYPrecip`, which is `chr` (character or string). Use the `glimpse` function from Tidyverse.\n",
      "metadata": {}
    },
    {
      "cell_type": "code",
      "source": "",
      "metadata": {},
      "execution_count": null,
      "outputs": []
    },
    {
      "cell_type": "markdown",
      "source": "Convert `HOURLYPrecip` to the `numeric` type and store the cleaned dataframe as a new variable.\n",
      "metadata": {}
    },
    {
      "cell_type": "code",
      "source": "dataset$HOURLYPrecip <- as.numeric(dataset$HOURLYPrecip)",
      "metadata": {},
      "execution_count": null,
      "outputs": []
    },
    {
      "cell_type": "markdown",
      "source": "We can now see that all fields have numerical data type.\n",
      "metadata": {}
    },
    {
      "cell_type": "code",
      "source": "",
      "metadata": {},
      "execution_count": null,
      "outputs": []
    },
    {
      "cell_type": "markdown",
      "source": "<a id=\"cell6\"></a>\n\n## 6. Rename Columns\n\nLet's rename the following columns as:\n\n*   'HOURLYRelativeHumidity' to 'relative_humidity'\n*   'HOURLYDRYBULBTEMPF' to 'dry_bulb_temp_f'\n*   'HOURLYPrecip' to 'precip'\n*   'HOURLYWindSpeed' to 'wind_speed'\n*   'HOURLYStationPressure' to 'station_pressure'\n\nYou can use `dplyr::rename()`. Then, store the final dataframe as a new variable.\n",
      "metadata": {}
    },
    {
      "cell_type": "code",
      "source": "NOAA_weather renamed <- NOAA_weather_cleaned %>% rename (relative_humidity = HOURLYRelativeHumidity, \ndry_bulb_temp_f = HOURLYDRYBULBTEMPF, precip = HOURLYPrecip, wind_speed = HOURLYWindSpeed, station_pressure = HOURLYStationPressure) ",
      "metadata": {},
      "execution_count": null,
      "outputs": []
    },
    {
      "cell_type": "markdown",
      "source": "<a id=\"cell7\"></a>\n\n## 7. Exploratory Data Analysis\n\nNow that you have finished preprocessing the dataset, you can can start exploring the columns more.\n\nFirst, split the data into a training and testing set. Splitting a dataset is done randomly, so to have reproducible results set the seed = 1234. Also, use 80% of the data for training.\n",
      "metadata": {}
    },
    {
      "cell_type": "code",
      "source": "set.seed(1234) train_test_vplit - initial_split(AA_weather renamed prop -.) train_data c- training train_test_split)",
      "metadata": {},
      "execution_count": null,
      "outputs": []
    },
    {
      "cell_type": "markdown",
      "source": "Next, looking at just the **training set**, plot histograms or box plots of the variables (`relative_humidity`, `dry_bulb_temp_f`, `precip`, `wind_speed`,  `station_pressure`) for an intial look of their distributions using `tidyverse`'s `ggplot`. Leave the testing set as is because it is good practice to not see the testing set until evaluating the final model.\n",
      "metadata": {}
    },
    {
      "cell_type": "code",
      "source": "#plot histogram for relative_humidity\nggplot(train_data, aes(x= relative_humidity))+\ngeom_histogram(color = \"darkblue\" , fill = \"lightblue\")\n#plot histogram for dry_bulb_temp_f\nggplot(train_data, aes(x = dry_bulb_temp_f)) +\ngeom_histogram(color = \"darkblue\" , fill = \"lightblue\")\n#plot histogram for precip\nggplot(train_data, aes(x = precip)) +\ngeom_histogram(color = \"darkblue\" , fill = \"lightblue\")\n#plot histogram for wind_speed \nggplot(train_data, aes(x = wind_speed)) +\ngeom_histogram(color = \"darkblue\" , fill = \"lightblue\")\n#plot histogram for station_pressure \nggplot(train_data, aes(x = station_pressure)) +\ngeom_histogram(color = \"darkblue\" , fill = \"lightblue\")",
      "metadata": {},
      "execution_count": null,
      "outputs": []
    },
    {
      "cell_type": "markdown",
      "source": "<a id=\"cell8\"></a>\n\n## 8. Linear Regression\n\nAfter exploring the dataset more, you are now ready to start creating models to predict the precipitation (`precip`).\n\nCreate simple linear regression models where `precip` is the response variable and each of `relative_humidity`, `dry_bulb_temp_f`,`wind_speed` or `station_pressure` will be a predictor variable, e.g. `precip ~ relative_humidity`, `precip ~ dry_bulb_temp_f`, etc. for a total of four simple models.\nAdditionally, visualize each simple model with a scatter plot.\n",
      "metadata": {}
    },
    {
      "cell_type": "code",
      "source": "# Linear Regression Model 1\nlinear_model_humidity <- lm(precip ~ relative_humidity, data = train_data) #create model\n#plot model\nggplot(train_data, aes(x = relative_humidity, y = precip)) +\ngeom_point () + \nstat_smooth(method - \"lm\" , col = \"purple\")",
      "metadata": {},
      "execution_count": null,
      "outputs": []
    },
    {
      "cell_type": "code",
      "source": "# Linear Regression Model 2\nlinear_model_drybulbtempf <- lm(precip ~ dry_bulb_temp_f, data = train_data) #create model\n#plot model \nggplot(train_data, aes(x = dry_bulb_temp_f, y = precip)) + \ngeom_point() + \nstat_smooth(method = \"lm\" , col = \"purple\")",
      "metadata": {},
      "execution_count": null,
      "outputs": []
    },
    {
      "cell_type": "code",
      "source": "# Linear Regression Model 3\nlinear_model_windspeed <- lm(precip ~ wind_speed, data = train_data) #create model\n#plot model\nggplot(train_data, aes(x = wind_speed, y = precip)) +\ngeom_point() +\nstat_smooth(method = \"lm\" , col = \"purple\")",
      "metadata": {},
      "execution_count": null,
      "outputs": []
    },
    {
      "cell_type": "code",
      "source": "# Linear Regression Model 4\nlinear_model_stationpressure <- lm(precip ~ station_pressure, data = train_data) #create model\n#plot model\nggplot(train_data, aes(x = station_pressure , y = precip)) +\ngeom_point() +\nstat_smooth(method = \"lm\" , col = \"purple\")",
      "metadata": {},
      "execution_count": null,
      "outputs": []
    },
    {
      "cell_type": "markdown",
      "source": "<a id=\"cell9\"></a>\n\n## 9. Improve the Model\n\nNow, try improving the simple models you created in the previous section.\n\nCreate at least two more models, each model should use at least one of the different techniques:\n\n1.  Add more features/predictors\n2.  Add regularization (L1, L2 or a mix)\n3.  Add a polynomial component\n\nAlso, for each of the models you create, check the model performance using the **training set** and a metric like MSE, RMSE, or R-squared.\n\nConsider using `tidymodels` if you choose to add regularization and tune lambda.\n",
      "metadata": {}
    },
    {
      "cell_type": "code",
      "source": "#create polynomial model \npolynomial_relativehumidity <- lm(precip ~ poly(relative_humidity, 10, raw = TRUE), data = train_data)\n#plot model\nggplot(data = train_data, aes(relative_humidity, precip)) +\ngeom_point() + \ngeom_smooth(method = \"lm\" , formula = y ~ poly(x,10))\n#print summary of model (this includes training summary)\nsummary(polynomial_relativehumidity)\n\n#Create Multiple linear regression model using multiple predictors\nmlr_all <- lm(precip ~ relative_humidity + dry_bulb_temp_f + wind_speed + station_pressure, data = train_data) \n#plot model \nggplot( train_data, aes(x = relative_humidity + dry_bulb_temp_f + wind_speed + station_pressure, y = precip)) +\ngeom_point() +\nstat_smooth(method = \"lm\" , col= \"purple\")\n#print summary (it displays training summary)\nsummary(mlr_all)",
      "metadata": {},
      "execution_count": null,
      "outputs": []
    },
    {
      "cell_type": "markdown",
      "source": "<a id=\"cell10\"></a>\n\n## 10. Find Best Model\n\nCompare the regression metrics of each model from section 9 to find the best model overall. To do this,\n\n1.  Evaluate the models on the **testing set** using at least one metric (like MSE, RMSE or R-squared).\n2.  After calculating the metrics on the testing set for each model, print them out in as a table to easily compare. You can use something like:\n\n```\nmodel_names <- c(\"model_1\", \"model_2\", \"model_3\")\ntrain_error <- c(\"model_1_value\", \"model_2_value\", \"model_3_value\")\ntest_error <- c(\"model_1_value\", \"model_2_value\", \"model_3_value\")\ncomparison_df <- data.frame(model_names, train_error, test_error)\n```\n\n3.  Finally, from the comparison table you create, conclude which model performed the best.\n",
      "metadata": {}
    },
    {
      "cell_type": "code",
      "source": "df = (df.groupby('f', as_index=False).agg(rt=('h', 'sum'),totalCount=('h', 'count'),ratio=('h', 'mean'))) df['ratio'] *= 100 df['ratio']",
      "metadata": {},
      "execution_count": null,
      "outputs": []
    },
    {
      "cell_type": "markdown",
      "source": "## Author(s)\n\n<h4> Yiwen Li </h4>\n\n## Contributions\n\n<h4> Tiffany Zhu </h4>\n\n## <h3 align=\"center\"> © IBM Corporation 2021. All rights reserved. <h3/>\n",
      "metadata": {}
    }
  ]
}